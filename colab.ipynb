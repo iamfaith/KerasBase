{
 "cells": [
  {
   "cell_type": "markdown",
   "metadata": {
    "colab_type": "text",
    "id": "view-in-github"
   },
   "source": [
    "<a href=\"https://github.com/iamfaith/KerasBase/DeepFaceLab_Colab_V4.ipynb\" target=\"_parent\"><img src=\"https://colab.research.google.com/assets/colab-badge.svg\" alt=\"Open In Colab\"/></a>"
   ]
  },
  {
   "cell_type": "code",
   "execution_count": 0,
   "metadata": {
    "cellView": "form",
    "colab": {
     "base_uri": "https://localhost:8080/",
     "height": 314
    },
    "colab_type": "code",
    "id": "AmGMbWZef1XI",
    "outputId": "e86aed33-7091-4a06-b38e-fa1d4be33755"
   },
   "outputs": [
    {
     "name": "stdout",
     "output_type": "stream",
     "text": [
      "Wed Mar 18 08:33:57 2020       \n",
      "+-----------------------------------------------------------------------------+\n",
      "| NVIDIA-SMI 418.67       Driver Version: 418.67       CUDA Version: 10.1     |\n",
      "|-------------------------------+----------------------+----------------------+\n",
      "| GPU  Name        Persistence-M| Bus-Id        Disp.A | Volatile Uncorr. ECC |\n",
      "| Fan  Temp  Perf  Pwr:Usage/Cap|         Memory-Usage | GPU-Util  Compute M. |\n",
      "|===============================+======================+======================|\n",
      "|   0  Tesla P100-PCIE...  Off  | 00000000:00:04.0 Off |                    0 |\n",
      "| N/A   35C    P0    27W / 250W |      0MiB / 16280MiB |      0%      Default |\n",
      "+-------------------------------+----------------------+----------------------+\n",
      "                                                                               \n",
      "+-----------------------------------------------------------------------------+\n",
      "| Processes:                                                       GPU Memory |\n",
      "|  GPU       PID   Type   Process name                             Usage      |\n",
      "|=============================================================================|\n",
      "|  No running processes found                                                 |\n",
      "+-----------------------------------------------------------------------------+\n"
     ]
    }
   ],
   "source": [
    "#@title 查看分配到的设备\n",
    "# 查看设备，是K80还是T4,如果是K80...！\n",
    "! /opt/bin/nvidia-smi"
   ]
  },
  {
   "cell_type": "markdown",
   "metadata": {
    "colab_type": "text",
    "id": "ldpC3PjRrYYh"
   },
   "source": [
    "# 第一步 准备好workspace\n",
    "这一步你可以选着两种方式\n",
    "1. 使用默认的workspace，你无需自己上传，仅用于熟悉操作。\n",
    "2. 通过Google Drive （谷歌云盘）上传自己的workspace到指定目录。\n",
    "\n",
    "\n",
    "\n",
    "谷歌云盘地址：https://drive.google.com/drive/my-drive  \n",
    "注意：谷歌网址现在都需要“科学上网”才能访问。  "
   ]
  },
  {
   "cell_type": "code",
   "execution_count": 0,
   "metadata": {
    "cellView": "form",
    "colab": {},
    "colab_type": "code",
    "id": "D7toZxhT4J9W"
   },
   "outputs": [],
   "source": [
    "#@title 开始挂载 \n",
    "#挂载谷歌云盘\n",
    "#点击链接授权，复制授权码，填入框框，然后回车。\n",
    "\n",
    "from google.colab import drive\n",
    "drive.mount('/content/drive', force_remount=True)\n",
    "\n",
    "#创建DeepFaceLab目录，并且进入目录\n",
    "%cd /content/drive/My Drive/\n",
    "!mkdir ColabCode\n",
    "%cd /content/drive/My Drive/ColabCode/\n"
   ]
  },
  {
   "cell_type": "code",
   "execution_count": 0,
   "metadata": {
    "cellView": "form",
    "colab": {},
    "colab_type": "code",
    "id": "cNsq0I98KvHl"
   },
   "outputs": [],
   "source": [
    "#@title 加载示例项目workspace \n",
    "# 1. 练手可以使用这一行，直接git clone一个workspace\n",
    "%cd /content/drive/My Drive/ColabCode/\n",
    "!git clone git@github.com:iamfaith/KerasBase.git\n",
    "# !rm -rf workspace\n",
    "# !git clone https://github.com/dream80/DFLWorkspace.git workspace"
   ]
  }
 ],
 "metadata": {
  "accelerator": "GPU",
  "colab": {
   "collapsed_sections": [],
   "include_colab_link": true,
   "name": "DeepFaceLab_Colab_V4.ipynb",
   "provenance": [],
   "toc_visible": true
  },
  "kernelspec": {
   "display_name": "Python 3",
   "language": "python",
   "name": "python3"
  },
  "language_info": {
   "codemirror_mode": {
    "name": "ipython",
    "version": 3
   },
   "file_extension": ".py",
   "mimetype": "text/x-python",
   "name": "python",
   "nbconvert_exporter": "python",
   "pygments_lexer": "ipython3",
   "version": "3.7.4"
  }
 },
 "nbformat": 4,
 "nbformat_minor": 1
}
